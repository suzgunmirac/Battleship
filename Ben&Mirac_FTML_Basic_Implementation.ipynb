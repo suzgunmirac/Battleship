{
  "nbformat": 4,
  "nbformat_minor": 0,
  "metadata": {
    "colab": {
      "name": "Ben&Mirac_FTML Basic Implementation.ipynb",
      "version": "0.3.2",
      "provenance": [],
      "collapsed_sections": [],
      "toc_visible": true,
      "include_colab_link": true
    },
    "language_info": {
      "codemirror_mode": {
        "name": "ipython",
        "version": 2
      },
      "file_extension": ".py",
      "mimetype": "text/x-python",
      "name": "python",
      "nbconvert_exporter": "python",
      "pygments_lexer": "ipython2",
      "version": "2.7.15"
    },
    "kernelspec": {
      "display_name": "Python 2",
      "language": "python",
      "name": "python2"
    }
  },
  "cells": [
    {
      "cell_type": "markdown",
      "metadata": {
        "id": "view-in-github",
        "colab_type": "text"
      },
      "source": [
        "<a href=\"https://colab.research.google.com/github/suzgunmirac/Battleship/blob/master/Ben%26Mirac_FTML_Basic_Implementation.ipynb\" target=\"_parent\"><img src=\"https://colab.research.google.com/assets/colab-badge.svg\" alt=\"Open In Colab\"/></a>"
      ]
    },
    {
      "cell_type": "markdown",
      "metadata": {
        "id": "VubY150Kk0XV",
        "colab_type": "text"
      },
      "source": [
        "### Import libraries and relevant dependencies"
      ]
    },
    {
      "cell_type": "code",
      "metadata": {
        "id": "-nwMB4IRkz2J",
        "colab_type": "code",
        "colab": {}
      },
      "source": [
        "import torch\n",
        "import torch.distributions as ds\n",
        "import torch.nn as nn\n",
        "import torch.nn.functional as F\n",
        "from torch import optim\n",
        "\n",
        "import numpy as np\n",
        "import matplotlib.pyplot as plt\n",
        "import seaborn as sns\n",
        "sns.set()"
      ],
      "execution_count": 0,
      "outputs": []
    },
    {
      "cell_type": "code",
      "metadata": {
        "id": "OG4hGCkIBPL3",
        "colab_type": "code",
        "colab": {}
      },
      "source": [
        "# Matplotlib plt default settings\n",
        "plt.style.use('default')"
      ],
      "execution_count": 0,
      "outputs": []
    },
    {
      "cell_type": "markdown",
      "metadata": {
        "id": "cIDbmSA6kzT_",
        "colab_type": "text"
      },
      "source": [
        "## Data Generation"
      ]
    },
    {
      "cell_type": "code",
      "metadata": {
        "id": "75pG1qRghZKu",
        "colab_type": "code",
        "colab": {}
      },
      "source": [
        "# Global params\n",
        "task_n = 20\n",
        "points_per_task = 100\n",
        "task_batch_size = 10\n",
        "num_meta_steps = 20\n",
        "num_task_steps = 10\n",
        "\n",
        "data_split = 0.9\n",
        "meta_data_split = 0.5"
      ],
      "execution_count": 0,
      "outputs": []
    },
    {
      "cell_type": "code",
      "metadata": {
        "id": "shpfzwT3ba6u",
        "colab_type": "code",
        "colab": {}
      },
      "source": [
        "# Construct task space (generate permutations of given amplitudes and phases for sinusoid function)\n",
        "def generate_task_space(task_num = 10):\n",
        "    task_space = []\n",
        "    for task in range (task_num):\n",
        "        # amplitude\n",
        "        amplitude = ds.uniform.Uniform(0.1, 5).sample()\n",
        "        # phase\n",
        "        phase = ds.uniform.Uniform(0., np.pi).sample()\n",
        "        # append a new task\n",
        "        task_space.append([amplitude, phase])\n",
        "    return task_space"
      ],
      "execution_count": 0,
      "outputs": []
    },
    {
      "cell_type": "code",
      "metadata": {
        "id": "Xr_4YtV0ba6x",
        "colab_type": "code",
        "colab": {}
      },
      "source": [
        "# Generate x values on interval [-5, 5]\n",
        "def sample_input(size = 100):    \n",
        "    input_unif = ds.uniform.Uniform(-5.0, 5.0)\n",
        "    x = input_unif.sample(torch.Size([size]))\n",
        "    return x"
      ],
      "execution_count": 0,
      "outputs": []
    },
    {
      "cell_type": "code",
      "metadata": {
        "id": "4lie8iojba6z",
        "colab_type": "code",
        "colab": {}
      },
      "source": [
        "# Plot some of the functions \n",
        "def plot_sample_functions():\n",
        "    # generate n number of tasks (task_n = 10)\n",
        "    task_space = generate_task_space(task_n)\n",
        "    \n",
        "    for function in range(task_n):\n",
        "        # choose one of the functions uniformly at random (redundant)\n",
        "        f_params_index = np.random.choice(np.arange(0, len(task_space)))\n",
        "        f_params = task_space[f_params_index]\n",
        "        \n",
        "        points = sample_input (points_per_task).numpy()\n",
        "        # Sorting (just to make sure that we are plotting from left to right)\n",
        "        points.sort()\n",
        "        \n",
        "        plt.plot(points, np.array([f_params[0] * np.sin(point + f_params[1]) for point in points]))\n",
        "        plt.title(\"Amplitude = {}, Phase = {}\".format(f_params[0], f_params[1]))\n",
        "        plt.hlines(y=0, xmin=-5.0, xmax=5.0)\n",
        "        plt.ylim(-5.0, 5.0)\n",
        "        plt.show()"
      ],
      "execution_count": 0,
      "outputs": []
    },
    {
      "cell_type": "markdown",
      "metadata": {
        "id": "JzuLg3a-k7nn",
        "colab_type": "text"
      },
      "source": [
        "### Model Architecture "
      ]
    },
    {
      "cell_type": "code",
      "metadata": {
        "id": "TNZWcubhCmAB",
        "colab_type": "code",
        "colab": {}
      },
      "source": [
        "# Modeled on NN for simple regression task from Finn et al., 2017\n",
        "class FFNN(nn.Module):\n",
        "    def __init__(self):\n",
        "        super(FFNN, self).__init__()\n",
        "        self.fc1 = nn.Linear(1, 40)\n",
        "        self.fc2 = nn.Linear(40, 40)\n",
        "        self.fc3 = nn.Linear(40, 1)\n",
        "        self.relu = nn.ReLU() \n",
        "        \n",
        "    def forward(self, x):\n",
        "        x = self.relu(self.fc1(x))\n",
        "        x = self.relu(self.fc2(x))\n",
        "        return self.fc3(x)"
      ],
      "execution_count": 0,
      "outputs": []
    },
    {
      "cell_type": "code",
      "metadata": {
        "id": "FIuzN-vOba7A",
        "colab_type": "code",
        "colab": {}
      },
      "source": [
        "# Generate sequence of tasks for use in online meta learning context\n",
        "\n",
        "# num_rounds = t and num_task_points = N (\"points_per_task\" in our case)\n",
        "def generate_task_sequence(num_rounds):\n",
        "    \n",
        "    # Generate tasks\n",
        "    task_space = generate_task_space(task_n)\n",
        "    \n",
        "    assert num_rounds <= len(task_space)\n",
        "    # Stores parameters corresponding to each task (in correct ordering based on keys)\n",
        "    \n",
        "    task_sequence = {}\n",
        "    \n",
        "    # Stores data corresponding to each task (in correct ordering based on keys) [BUFFER]\n",
        "    sequence_data = {}\n",
        "    \n",
        "    task_counter = 0\n",
        "    \n",
        "    # Selects tasks without replacement \n",
        "    np.random.shuffle(task_space)\n",
        "    \n",
        "    while task_counter < num_rounds:\n",
        "        task_counter += 1\n",
        "        \n",
        "        # sample a task (the world gives us a task)\n",
        "        f_params = task_space.pop()\n",
        "        \n",
        "        # Generate data for this task \n",
        "        task_inputs = sample_input (points_per_task).numpy()\n",
        "        task_inputs.sort()\n",
        "        task_inputs = torch.tensor (task_inputs)\n",
        "        \n",
        "        # Generate the corresponding target values (with some Gaussian noise)\n",
        "        task_outputs = torch.zeros (points_per_task)\n",
        "        \n",
        "        for i in range(points_per_task):\n",
        "            noise = torch.normal(torch.tensor(0.), torch.tensor(.0001))\n",
        "            task_outputs[i] = f_params[0] * np.sin(task_inputs[i] + f_params[1]) + noise\n",
        "            # task_outputs[i] = torch.tensor (1.)\n",
        "\n",
        "        task_sequence[task_counter] = f_params\n",
        "        \n",
        "        sequence_data[task_counter] = {'X': task_inputs, 'Y': task_outputs}\n",
        "    \n",
        "    # Task sequence stores parameters used to generate function, sequence_data stores corresponding data\n",
        "    return task_sequence, sequence_data"
      ],
      "execution_count": 0,
      "outputs": []
    },
    {
      "cell_type": "code",
      "metadata": {
        "id": "O7vN1qMBba7D",
        "colab_type": "code",
        "colab": {}
      },
      "source": [
        "# Generate task sequence, sequence data \n",
        "task_sequence, sequence_data = generate_task_sequence(10)"
      ],
      "execution_count": 0,
      "outputs": []
    },
    {
      "cell_type": "markdown",
      "metadata": {
        "id": "9juzDQpxkwSv",
        "colab_type": "text"
      },
      "source": [
        "## Training "
      ]
    },
    {
      "cell_type": "markdown",
      "metadata": {
        "id": "cMsIrJB4ba7G",
        "colab_type": "text"
      },
      "source": [
        "### Naive Model + Training Procedure"
      ]
    },
    {
      "cell_type": "code",
      "metadata": {
        "id": "aXPIDktNba7G",
        "colab_type": "code",
        "colab": {}
      },
      "source": [
        "# Dumb/Naive model \n",
        "\n",
        "def train_naive_model(model, criterion, optim, num_epochs, batch_size, data, test_data):\n",
        "    model.train ()\n",
        "    \n",
        "    train_X, train_Y = data\n",
        "    \n",
        "    test_X, test_Y = test_data\n",
        "    \n",
        "    \n",
        "    losses = []\n",
        "    \n",
        "    test_losses = []\n",
        "    \n",
        "    # Run optimization\n",
        "    for epoch in range(num_epochs):\n",
        "        batch_index = 0\n",
        "        loss = 0.\n",
        "        while batch_index < len(train_X):\n",
        "            optim.zero_grad()\n",
        "            \n",
        "            batch_X = train_X[batch_index : batch_index + batch_size].view(-1, 1)\n",
        "            batch_Y = train_Y[batch_index : batch_index + batch_size].view(-1, 1)\n",
        "            \n",
        "            predictions = model (batch_X)\n",
        "            \n",
        "            # double check\n",
        "            loss = criterion (predictions, batch_Y)\n",
        "            \n",
        "            loss.backward()\n",
        "            optim.step()\n",
        "            \n",
        "            losses.append(loss.item())\n",
        "            batch_index += batch_size\n",
        "            \n",
        "        test_loss = loss_eval (model, (test_X, test_Y), epoch)\n",
        "        \n",
        "        test_losses.append(test_loss.item())\n",
        "            \n",
        "    plt.plot(np.arange(1, len(losses) + 1), np.array(losses))\n",
        "    plt.title(\"Training Loss | Naive Model\")\n",
        "    plt.ylabel ('Mean Squared Error')\n",
        "    plt.xlabel ('Iteration')\n",
        "    plt.savefig ('naive_model_loss', dpi=256)\n",
        "    plt.show()\n",
        "    \n",
        "    print (test_losses)\n",
        "    plt.plot(np.arange(1, num_epochs + 1), np.array(test_losses), '-o')\n",
        "    plt.title(\"Test Loss | Naive Model\")\n",
        "    plt.ylabel ('Mean Squared Error')\n",
        "    plt.xlabel ('Epoch')\n",
        "    plt.savefig ('naive_model_test_loss', dpi=256)\n",
        "    plt.show()\n",
        "    \n",
        "    \n",
        "    # return model"
      ],
      "execution_count": 0,
      "outputs": []
    },
    {
      "cell_type": "code",
      "metadata": {
        "id": "e7L_fKdcba7J",
        "colab_type": "code",
        "colab": {}
      },
      "source": [
        "# Model parameters\n",
        "\n",
        "learning_rate = 0.001\n",
        "num_epochs = 25\n",
        "batch_size = 16\n",
        "\n",
        "model = FFNN()\n",
        "criterion = nn.MSELoss() \n",
        "optim = torch.optim.Adam(model.parameters(), lr = learning_rate)"
      ],
      "execution_count": 0,
      "outputs": []
    },
    {
      "cell_type": "code",
      "metadata": {
        "id": "NlRkN6VGoFHl",
        "colab_type": "code",
        "colab": {}
      },
      "source": [
        "def naive_train_test_split (data):\n",
        "    # Concatenate data from all tasks \n",
        "    X = torch.tensor([])\n",
        "    Y = torch.tensor([])\n",
        "\n",
        "    for task_key in range(1, len(data) + 1):\n",
        "        X = torch.cat((X, data[task_key]['X']))\n",
        "        Y = torch.cat((Y, data[task_key]['Y']))\n",
        "\n",
        "    X = X.flatten()\n",
        "    Y = Y.flatten()\n",
        "    \n",
        "    # Shuffle data to ensure data from tasks distributed evenly \n",
        "    indices = np.arange(len(X))\n",
        "    np.random.shuffle(indices)\n",
        "\n",
        "    reordered_X = []\n",
        "    reordered_Y = []\n",
        "\n",
        "    for index in indices:\n",
        "        reordered_X.append(X[index])\n",
        "        reordered_Y.append(Y[index])     \n",
        "\n",
        "    train_X = torch.tensor(reordered_X[:int(data_split * len(X))])\n",
        "    train_Y = torch.tensor(reordered_Y[:int(data_split * len(Y))])\n",
        "\n",
        "    test_X = torch.tensor(reordered_X[int(data_split * len(X)):])\n",
        "    test_Y = torch.tensor(reordered_Y[int(data_split * len(Y)):])\n",
        "    \n",
        "    return [(train_X, train_Y), (test_X, test_Y)]"
      ],
      "execution_count": 0,
      "outputs": []
    },
    {
      "cell_type": "code",
      "metadata": {
        "id": "6cuGuxl_oYsv",
        "colab_type": "code",
        "colab": {}
      },
      "source": [
        "# Training and test sets\n",
        "(train_input, train_output), (test_input, test_output) = naive_train_test_split (sequence_data)"
      ],
      "execution_count": 0,
      "outputs": []
    },
    {
      "cell_type": "code",
      "metadata": {
        "id": "Q7fnGdzSba7M",
        "colab_type": "code",
        "outputId": "6a529b8e-2e10-4b37-9514-7563c7a1731d",
        "colab": {
          "base_uri": "https://localhost:8080/",
          "height": 1389
        }
      },
      "source": [
        "naive_model = train_naive_model(model, criterion, optim, num_epochs, batch_size , (train_input, train_output), (test_input, test_output))"
      ],
      "execution_count": 18,
      "outputs": [
        {
          "output_type": "stream",
          "text": [
            "Loss for round 1: 24.8556079865\n",
            "Loss for round 2: 24.7436904907\n",
            "Loss for round 3: 24.6538391113\n",
            "Loss for round 4: 24.5649662018\n",
            "Loss for round 5: 24.4079551697\n",
            "Loss for round 6: 24.3061199188\n",
            "Loss for round 7: 24.1796531677\n",
            "Loss for round 8: 24.0304775238\n",
            "Loss for round 9: 23.890127182\n",
            "Loss for round 10: 23.7183933258\n",
            "Loss for round 11: 23.5986270905\n",
            "Loss for round 12: 23.4128513336\n",
            "Loss for round 13: 23.2990665436\n",
            "Loss for round 14: 23.2337722778\n",
            "Loss for round 15: 23.1602268219\n",
            "Loss for round 16: 23.0974845886\n",
            "Loss for round 17: 23.0463409424\n",
            "Loss for round 18: 22.9864082336\n",
            "Loss for round 19: 22.9438877106\n",
            "Loss for round 20: 22.8939685822\n",
            "Loss for round 21: 22.8685646057\n",
            "Loss for round 22: 22.8340187073\n",
            "Loss for round 23: 22.8089637756\n",
            "Loss for round 24: 22.7868480682\n",
            "Loss for round 25: 22.7723999023\n"
          ],
          "name": "stdout"
        },
        {
          "output_type": "display_data",
          "data": {
            "image/png": "[encoded data removed]",
            "text/plain": [
              "<Figure size 640x480 with 1 Axes>"
            ]
          },
          "metadata": {
            "tags": []
          }
        },
        {
          "output_type": "stream",
          "text": [
            "[24.855607986450195, 24.743690490722656, 24.653839111328125, 24.564966201782227, 24.407955169677734, 24.306119918823242, 24.17965316772461, 24.03047752380371, 23.890127182006836, 23.718393325805664, 23.5986270904541, 23.412851333618164, 23.2990665435791, 23.23377227783203, 23.160226821899414, 23.097484588623047, 23.046340942382812, 22.986408233642578, 22.94388771057129, 22.89396858215332, 22.86856460571289, 22.83401870727539, 22.808963775634766, 22.786848068237305, 22.77239990234375]\n"
          ],
          "name": "stdout"
        },
        {
          "output_type": "display_data",
          "data": {
            "image/png": "[encoded data removed]",
            "text/plain": [
              "<Figure size 640x480 with 1 Axes>"
            ]
          },
          "metadata": {
            "tags": []
          }
        }
      ]
    },
    {
      "cell_type": "markdown",
      "metadata": {
        "id": "OCJ7L6VIDWoe",
        "colab_type": "text"
      },
      "source": [
        "### Follow the Meta-Leader"
      ]
    },
    {
      "cell_type": "code",
      "metadata": {
        "id": "wVDJkui4Snr4",
        "colab_type": "code",
        "colab": {}
      },
      "source": [
        "# online meta-learning model params\n",
        "meta_learning_rate = 0.001\n",
        "task_learning_rate = 0.01\n",
        "\n",
        "num_epochs = 10\n",
        "batch_size = 16\n",
        "\n",
        "meta_model = FFNN()\n",
        "criterion = nn.MSELoss() \n",
        "meta_optim = torch.optim.Adam(meta_model.parameters(), lr = meta_learning_rate)"
      ],
      "execution_count": 0,
      "outputs": []
    },
    {
      "cell_type": "code",
      "metadata": {
        "id": "edYpo9IYNyFr",
        "colab_type": "code",
        "colab": {}
      },
      "source": [
        "def visualize_results (m_model, data, task, label_num = 1):  \n",
        "    \n",
        "    viz_steps = [0, 9]\n",
        "    \n",
        "    data_X, data_Y = data\n",
        "    \n",
        "    data_X = data_X.tolist()\n",
        "    \n",
        "    data_X.sort()\n",
        "    \n",
        "    data_Y = []\n",
        "    \n",
        "    for x in data_X:\n",
        "        data_Y.append(task[0] * np.sin(x + task[1]))\n",
        "      \n",
        "    data_X = torch.tensor(data_X)\n",
        "    data_Y = torch.tensor(data_Y)\n",
        "\n",
        "    task_model_predictions = task_update(m_model, (data_X, data_Y), visualize=True, viz_steps=viz_steps)\n",
        "    \n",
        "    # Turn on the eval mode\n",
        "    m_model.eval()\n",
        "    \n",
        "    meta_model_predictions = m_model (data_X.view(-1, 1)).detach()\n",
        "        \n",
        "    plt.figure()\n",
        "    \n",
        "    x_inputs = data_X.numpy()\n",
        "    \n",
        "#     plt.plot (x_inputs, data_Y.numpy(), '-o', 'r', label='Target pt')\n",
        "    plt.plot (np.linspace(-5, 5, 301), np.array([task[0] * np.sin(x + task[1]) for x in np.linspace(-5, 5, 301)]), '-', color='red', label = 'Ground truth')\n",
        "    plt.plot (x_inputs, meta_model_predictions.numpy(), '--', color='green', label = 'Pre-update')\n",
        "    \n",
        "    for prediction_index in range(len(task_model_predictions)):\n",
        "        num = viz_steps[prediction_index] + 1\n",
        "        lbl = 'After '\n",
        "        if num == 1:\n",
        "            lbl += '{} grad update'.format(num)\n",
        "        else:\n",
        "            lbl += '{} grad updates'.format(num)\n",
        "\n",
        "        plt.plot(x_inputs, task_model_predictions[prediction_index].numpy(), '.-', label = lbl)\n",
        "    \n",
        "    # plt.title ('Model-Agnostic Meta-Learning for Simple Regression Task')\n",
        "    # plt.legend(loc='upper right')\n",
        "    plt.ylim(-7, 7)\n",
        "    plt.savefig('ftml_result_{}'.format(label_num), dpi=256)\n",
        "    plt.show()\n",
        "    "
      ],
      "execution_count": 0,
      "outputs": []
    },
    {
      "cell_type": "code",
      "metadata": {
        "id": "Dl_y9tQQGCSe",
        "colab_type": "code",
        "colab": {}
      },
      "source": [
        "def loss_eval (model, data, round_t):\n",
        "    with torch.no_grad():\n",
        "        \n",
        "        # Turn on the eval mode\n",
        "        model.eval()\n",
        "        \n",
        "        data_X, data_Y = data\n",
        "        \n",
        "        # Evaluate loss\n",
        "        loss = 0\n",
        "        \n",
        "        batch_index = 0\n",
        "        while batch_index < len(data_X):\n",
        "                        \n",
        "            batch_X = data_X[batch_index : batch_index + batch_size].view(-1, 1)\n",
        "            batch_Y = data_Y[batch_index : batch_index + batch_size].view(-1, 1)\n",
        "\n",
        "            predictions = model (batch_X)\n",
        "            \n",
        "            loss += criterion (predictions, batch_Y)\n",
        "            \n",
        "            batch_index += batch_size\n",
        "            \n",
        "        # loss /= batch_index\n",
        "        \n",
        "        print(\"Loss for round {}: {}\".format(round_t + 1, loss))\n",
        "        \n",
        "        return loss"
      ],
      "execution_count": 0,
      "outputs": []
    },
    {
      "cell_type": "code",
      "metadata": {
        "id": "Ih1vu0W6ba7Q",
        "colab_type": "code",
        "colab": {}
      },
      "source": [
        "def meta_update(model, optim, task_buffer, sequence_data):\n",
        "    # Turn on the train mode\n",
        "    model.train ()\n",
        "    \n",
        "    for step in range(num_meta_steps):\n",
        "        # Sample task from history of tasks \n",
        "        task_cat = ds.categorical.Categorical(probs=torch.div(torch.ones(len(task_buffer)), len(task_buffer)))\n",
        "        k = task_cat.sample()\n",
        "        task_X, task_Y = sequence_data[task_buffer[k]]\n",
        "        \n",
        "        # Sample minibatches from training and validation        \n",
        "        data_indices = np.arange(len(task_X))\n",
        "        np.random.shuffle(data_indices)\n",
        "        \n",
        "        reordered_X = []\n",
        "        reordered_Y = []\n",
        "        \n",
        "        for i in data_indices:\n",
        "            reordered_X.append(task_X[i])\n",
        "            reordered_Y.append(task_Y[i])\n",
        "            \n",
        "        train_X = torch.tensor(reordered_X[:int(meta_data_split * len(reordered_X))])\n",
        "        train_Y = torch.tensor(reordered_Y[:int(meta_data_split * len(reordered_X))])\n",
        "        val_X = torch.tensor(reordered_X[int(meta_data_split * len(reordered_X)):])\n",
        "        val_Y = torch.tensor(reordered_Y[int(meta_data_split * len(reordered_X)):])\n",
        "        \n",
        "        # calculating U_k (w)\n",
        "        task_model = task_update(model, (train_X, train_Y))\n",
        "\n",
        "        # Update meta-parameters   \n",
        "        optim.zero_grad()\n",
        "        \n",
        "        # Compute averaged loss\n",
        "        loss = 0\n",
        "        \n",
        "        batch_index = 0\n",
        "        while batch_index < len(train_X):\n",
        "                        \n",
        "            batch_X = val_X[batch_index : batch_index + batch_size].view(-1, 1)\n",
        "            batch_Y = val_Y[batch_index : batch_index + batch_size].view(-1, 1)\n",
        "            \n",
        "            predictions = task_model (batch_X)\n",
        "            \n",
        "            loss += criterion (predictions, batch_Y)\n",
        "            \n",
        "            batch_index += batch_size\n",
        "            \n",
        "        # loss /= batch_index\n",
        "        \n",
        "        loss.backward()\n",
        "        \n",
        "        optim.step()\n",
        "\n",
        "    return model"
      ],
      "execution_count": 0,
      "outputs": []
    },
    {
      "cell_type": "code",
      "metadata": {
        "id": "ToaVvDqDOViG",
        "colab_type": "code",
        "colab": {}
      },
      "source": [
        "def task_update(model, data, visualize=False, viz_steps = [0, 19]):\n",
        "    ## Initialization\n",
        "    # Create a copy of the meta-model\n",
        "    new_model = type(model)()\n",
        "    new_model.load_state_dict (model.state_dict())\n",
        "    \n",
        "    new_optim = torch.optim.Adam(new_model.parameters(), lr = task_learning_rate)\n",
        "    \n",
        "    data_X, data_Y = data\n",
        "    \n",
        "    visualization_predictions = []\n",
        "        \n",
        "    # Turn on the train mode\n",
        "    new_model.train()\n",
        "    \n",
        "    for step in range (num_task_steps):\n",
        "        batch_index = 0\n",
        "        while batch_index < len(data_X):\n",
        "            new_optim.zero_grad()\n",
        "            \n",
        "            batch_X = data_X[batch_index : batch_index + batch_size].view(-1, 1)\n",
        "            batch_Y = data_Y[batch_index : batch_index + batch_size].view(-1, 1)\n",
        "            \n",
        "            predictions = new_model (batch_X)\n",
        "\n",
        "            # double check\n",
        "            loss = criterion (predictions, batch_Y)\n",
        "            \n",
        "            loss.backward()\n",
        "            new_optim.step()\n",
        "            \n",
        "            # losses.append(loss.item())\n",
        "            batch_index += batch_size\n",
        "        \n",
        "        if visualize and step in viz_steps:\n",
        "            visualization_predictions.append(new_model(data_X.view(-1, 1)).detach())\n",
        "        \n",
        "    if visualize:\n",
        "        return visualization_predictions\n",
        "    else:\n",
        "        return new_model"
      ],
      "execution_count": 0,
      "outputs": []
    },
    {
      "cell_type": "code",
      "metadata": {
        "id": "yf8N8HsTDli-",
        "colab_type": "code",
        "colab": {}
      },
      "source": [
        "def online_meta_learning (model, data):\n",
        "    # Initialize the meta-model params\n",
        "    # model = model\n",
        "    \n",
        "    # Turn on the train mode\n",
        "    model.train()\n",
        "    \n",
        "    # Init task buffer \n",
        "    task_buffer = []\n",
        "    sequence_data = {}\n",
        "    test_losses = []\n",
        "    \n",
        "    meta_losses = []\n",
        "    tilde_losses = []\n",
        "    \n",
        "    # The world decides on the sequence of task\n",
        "    task_indices = np.arange(1, len(task_sequence) + 1)\n",
        "    np.random.shuffle(task_indices)\n",
        "    \n",
        "    # In each round, we present samples from one particular task\n",
        "    for round_t in range (len(data)):\n",
        "\n",
        "        # Store observed task in task buffer\n",
        "        task_buffer.append (task_indices[round_t])\n",
        "        \n",
        "        # Shuffle sequence data (to prevent unnatural ordering)\n",
        "        task_data = data[task_indices[round_t]]\n",
        "        data_indices = np.arange(points_per_task)\n",
        "        np.random.shuffle(data_indices)\n",
        "        \n",
        "        reordered_X = []\n",
        "        reordered_Y = []\n",
        "        \n",
        "        for i in data_indices:\n",
        "            reordered_X.append(task_data['X'][i])\n",
        "            reordered_Y.append(task_data['Y'][i])\n",
        "            \n",
        "        # Create task test-train split\n",
        "        train_X = torch.tensor(reordered_X[:int(data_split * points_per_task)])\n",
        "        train_Y = torch.tensor(reordered_Y[:int(data_split * points_per_task)])\n",
        "        test_X = torch.tensor(reordered_X[int(data_split * points_per_task):])\n",
        "        test_Y = torch.tensor(reordered_Y[int(data_split * points_per_task):])\n",
        "\n",
        "        # Maintain task online data buffer \n",
        "        task_X = torch.tensor([])\n",
        "        task_Y = torch.tensor([])\n",
        "        \n",
        "        data_counter = 0\n",
        "        \n",
        "        if round_t > 0:\n",
        "            veteran_model = type(model)()\n",
        "            veteran_model.load_state_dict (model.state_dict())\n",
        "\n",
        "            # visualize_results (veteran_model, (train_X, train_Y), task_sequence[task_buffer[-1]], label_num = round_t)\n",
        "                \n",
        "        while len(task_X) < (data_split * points_per_task):\n",
        "\n",
        "            # Append batch_size data points to online data buffer \n",
        "            task_X = torch.cat((task_X, train_X[data_counter : data_counter + task_batch_size]))\n",
        "            task_Y = torch.cat((task_Y, train_Y[data_counter : data_counter + task_batch_size]))\n",
        "            \n",
        "            data_counter += task_batch_size\n",
        "            \n",
        "            # Store observed data \n",
        "            sequence_data[task_indices[round_t]] = (task_X, task_Y)\n",
        "            \n",
        "            # Perform meta-model update\n",
        "            model = meta_update(model, meta_optim, task_buffer, sequence_data)\n",
        "            \n",
        "            \n",
        "            # Perform task update\n",
        "            model_tilde = task_update(model, (task_X, task_Y))\n",
        "            \n",
        "        # Final performance on the test set \n",
        "        meta_loss = loss_eval (model, (test_X, test_Y), round_t)\n",
        "        test_loss = loss_eval (model_tilde, (test_X, test_Y), round_t)\n",
        "        \n",
        "        meta_losses.append (meta_loss)\n",
        "        test_losses.append(test_loss)\n",
        "    \n",
        "    plt.plot(np.arange(1, len(data) + 1), np.array(meta_losses), '-ob', label= 'Meta-model')\n",
        "    plt.plot(np.arange(1, len(data) + 1), np.array(test_losses), '-*r', label='Task-specific model')\n",
        "    plt.title(\"Test Loss on Online Meta-Learning Task\")\n",
        "    plt.ylabel ('Mean Squared Error')\n",
        "    plt.xlabel ('Round')\n",
        "    plt.legend(loc='upper right')\n",
        "    plt.savefig ('maml_losses', dpi=256)\n",
        "    \n",
        "    plt.show()"
      ],
      "execution_count": 0,
      "outputs": []
    },
    {
      "cell_type": "code",
      "metadata": {
        "id": "o5U_Wtynba7V",
        "colab_type": "code",
        "outputId": "829dc952-a9d5-4912-f5f8-d9af62d974cb",
        "colab": {
          "base_uri": "https://localhost:8080/",
          "height": 289
        }
      },
      "source": [
        "online_meta_learning(model, sequence_data)"
      ],
      "execution_count": 0,
      "outputs": [
        {
          "output_type": "stream",
          "text": [
            "Loss for round 1: 1.37974989414\n",
            "Loss for round 1: 0.0707615688443\n",
            "Loss for round 2: 1.35018360615\n",
            "Loss for round 2: 0.0983143001795\n",
            "Loss for round 3: 1.19173789024\n",
            "Loss for round 3: 0.449582338333\n",
            "Loss for round 4: 5.73060464859\n",
            "Loss for round 4: 0.148814409971\n",
            "Loss for round 5: 1.69762504101\n",
            "Loss for round 5: 0.0152542674914\n",
            "Loss for round 6: 5.2650976181\n",
            "Loss for round 6: 0.43321326375\n",
            "Loss for round 7: 1.55217838287\n",
            "Loss for round 7: 0.69498693943\n",
            "Loss for round 8: 0.106720343232\n",
            "Loss for round 8: 0.00517320260406\n"
          ],
          "name": "stdout"
        }
      ]
    },
    {
      "cell_type": "markdown",
      "metadata": {
        "id": "Fhno9l2BeguE",
        "colab_type": "text"
      },
      "source": [
        "## Bayesian Online Meta-Learning"
      ]
    },
    {
      "cell_type": "code",
      "metadata": {
        "id": "UCpKdCi0fEc1",
        "colab_type": "code",
        "colab": {}
      },
      "source": [
        "# online meta-learning model params\n",
        "bayes_meta_learning_rate = 0.001\n",
        "bayes_task_learning_rate = 0.01\n",
        "\n",
        "num_epochs = 10\n",
        "batch_size = 16\n",
        "observation_noise_variance = 0.01\n",
        "prior_mean, prior_variance = 0., 1.\n",
        "\n",
        "# Chaser is n in BMAML\n",
        "chaser_steps = 1\n",
        "# Leader is n + s in BMAML\n",
        "leader_steps = 1\n",
        "\n",
        "kernel_sigma_squared = 1.\n",
        "\n",
        "model_number_M = 5\n",
        "\n",
        "ensemble_meta_models = [FFNN() for _ in range (model_number_M)]\n",
        "# bayes_meta_optims = [torch.optim.Adam(ensemble_meta_models[i].parameters(), lr=meta_learning_rate) for i in range(model_number_M)]\n",
        "criterion = nn.MSELoss() "
      ],
      "execution_count": 0,
      "outputs": []
    },
    {
      "cell_type": "code",
      "metadata": {
        "id": "5_HsCAOiXC2r",
        "colab_type": "code",
        "colab": {}
      },
      "source": [
        "# This is fine\n",
        "# Randomly establish 1-1 mapping between models\n",
        "pairwise_mapping = {}\n",
        "model_indices = np.arange(model_number_M)\n",
        "np.random.shuffle(model_indices)\n",
        "for i in range(model_number_M):\n",
        "  pairwise_mapping[i] = model_indices[i]"
      ],
      "execution_count": 0,
      "outputs": []
    },
    {
      "cell_type": "code",
      "metadata": {
        "id": "GvO6lI-amhNi",
        "colab_type": "code",
        "colab": {}
      },
      "source": [
        "def ensemble_loss_eval (models, data, round_t):\n",
        "\n",
        "    with torch.no_grad():\n",
        "        \n",
        "        # Turn on the eval mode\n",
        "        for i in range(model_number_M):\n",
        "          models[i].eval()\n",
        "        \n",
        "        data_X, data_Y = data\n",
        "        \n",
        "        # Evaluate loss\n",
        "        loss = 0\n",
        "        \n",
        "        batch_index = 0\n",
        "        while batch_index < len(data_X):\n",
        "                        \n",
        "            batch_X = data_X[batch_index : batch_index + batch_size].view(-1, 1)\n",
        "            batch_Y = data_Y[batch_index : batch_index + batch_size].view(-1, 1)\n",
        "\n",
        "            \n",
        "            for model in models:\n",
        "              predictions = model (batch_X)\n",
        "              loss += criterion (predictions, batch_Y)\n",
        "            \n",
        "            batch_index += batch_size\n",
        "            \n",
        "        loss /= (1. / (1. * model_number_M))\n",
        "        \n",
        "        print(\"Loss for round {}: {}\".format(round_t + 1, loss))\n",
        "        \n",
        "        return loss"
      ],
      "execution_count": 0,
      "outputs": []
    },
    {
      "cell_type": "code",
      "metadata": {
        "id": "Bdc2ycMSXuVn",
        "colab_type": "code",
        "colab": {}
      },
      "source": [
        "# This is fine\n",
        "def compute_chaser_loss (theta_n, theta_n_s):\n",
        "  \n",
        "    flattened_theta_n = []\n",
        "    flattened_theta_n_s = []\n",
        "    \n",
        "    for i in range(model_number_M):\n",
        "      flattened_n_model = torch.tensor([])\n",
        "      flattened_n_s_model = torch.tensor([])\n",
        "      for name, param in theta_n[i].named_parameters():\n",
        "        if param.requires_grad:\n",
        "          flattened_n_model = torch.cat((flattened_n_model, param.flatten()))\n",
        "      for name, param in theta_n_s[i].named_parameters():\n",
        "        if param.requires_grad:\n",
        "          flattened_n_s_model = torch.cat((flattened_n_s_model, param.flatten()))\n",
        "      flattened_theta_n.append(flattened_n_model)\n",
        "      flattened_theta_n_s.append(flattened_n_s_model)\n",
        "    \n",
        "    loss = 0\n",
        "    for i in range(model_number_M):\n",
        "      diff = flattened_theta_n[i] - flattened_theta_n_s[pairwise_mapping[i]]\n",
        "      # squared euclidean distance\n",
        "      loss += torch.dot(diff, diff)\n",
        "      \n",
        "    return loss"
      ],
      "execution_count": 0,
      "outputs": []
    },
    {
      "cell_type": "code",
      "metadata": {
        "id": "Av41uaE4i1nh",
        "colab_type": "code",
        "colab": {}
      },
      "source": [
        "def bayesian_meta_update(models, task_buffer, sequence_data):\n",
        "  \n",
        "  # This is theta_0\n",
        "  original_meta_models = [type(model)() for model in models]  \n",
        "  for i in range(model_number_M):\n",
        "    original_meta_models[i].load_state_dict (models[i].state_dict())\n",
        "  \n",
        "  # Turn on the train mode\n",
        "  for i in range (model_number_M):\n",
        "    # These are theta_0_prime\n",
        "    models[i].train()    \n",
        "\n",
        "  for step in range(num_meta_steps):\n",
        "      # Sample task from history of tasks \n",
        "      task_cat = ds.categorical.Categorical(probs=torch.div(torch.ones(len(task_buffer)), len(task_buffer)))\n",
        "      k = task_cat.sample()\n",
        "      task_X, task_Y = sequence_data[task_buffer[k]]\n",
        "\n",
        "      # Sample minibatches from training and validation        \n",
        "      data_indices = np.arange(len(task_X))\n",
        "      np.random.shuffle(data_indices)\n",
        "\n",
        "      reordered_X = []\n",
        "      reordered_Y = []\n",
        "\n",
        "      for i in data_indices:\n",
        "          reordered_X.append(task_X[i])\n",
        "          reordered_Y.append(task_Y[i])\n",
        "\n",
        "      train_X = torch.tensor(reordered_X[:int(meta_data_split * len(reordered_X))])\n",
        "      train_Y = torch.tensor(reordered_Y[:int(meta_data_split * len(reordered_X))])\n",
        "      \n",
        "      # At some point in backpropagating, we are going to use the partial d(theta_n) / d(theta_0_prime)\n",
        "      theta_n = bayesian_task_update (models, (train_X, train_Y), chaser_steps)\n",
        "      \n",
        "      theta_n_prime = [type(theta_n_model) for theta_n_model in theta_n]\n",
        "      for i in range(model_number_M):\n",
        "        theta_n_prime[i].load_state_dict (theta_n[i].state_dict())   \n",
        "      \n",
        "      # Note we are using the full dataset here (both train and val)\n",
        "      theta_n_s = bayesian_task_update (theta_n_prime, (torch.tensor(reordered_X), torch.tensor(reordered_Y)), leader_steps)\n",
        "\n",
        "      loss = compute_chaser_loss (theta_n_prime, theta_n_s)\n",
        "\n",
        "      loss.backward()\n",
        "      \n",
        "      gradient = {}\n",
        "      for i in range(model_number_M):\n",
        "        for name, param in models[i].named_parameters():\n",
        "          gradient[name] = param.grad\n",
        "\n",
        "      for i in range (model_number_M):      \n",
        "        for name, param in original_meta_models[i].named_parameters():\n",
        "          if param.requires_grad:\n",
        "            # Use param.grad for models to update param.data of meta_models\n",
        "            param.data -= bayes_meta_learning_rate * gradient[name]\n",
        "\n",
        "  return models"
      ],
      "execution_count": 0,
      "outputs": []
    },
    {
      "cell_type": "code",
      "metadata": {
        "id": "Fw8fQKqA0LTH",
        "colab_type": "code",
        "colab": {}
      },
      "source": [
        "def compute_kernel (model_l, model_j):\n",
        "    model_l_parameter_values = torch.tensor([], requires_grad=True)\n",
        "    model_j_parameter_values = torch.tensor([], requires_grad=True)\n",
        "    \n",
        "    # Flatten the weights of model l\n",
        "    for name, param in model_l.named_parameters():\n",
        "      if param.requires_grad:\n",
        "        parameter_values = torch.cat((model_l_parameter_values, param.flatten()))\n",
        "    \n",
        "    # Flatten the weights of model j\n",
        "    for name, param in model_j.named_parameters():\n",
        "      if param.requires_grad:\n",
        "        parameter_values = torch.cat((model_j_parameter_values, param.flatten()))\n",
        "        \n",
        "    diff = model_l_parameter_values - model_j_parameter_values\n",
        "    \n",
        "    # squared euclidean distance\n",
        "    sqd = torch.dot(diff, diff) \n",
        "    \n",
        "    # Ben approves! (yay)\n",
        "    distance = torch.exp(-(sqd / (2. * kernel_sigma_squared)))\n",
        "    \n",
        "    return distance"
      ],
      "execution_count": 0,
      "outputs": []
    },
    {
      "cell_type": "code",
      "metadata": {
        "id": "wnb_MqaYnM8Y",
        "colab_type": "code",
        "colab": {}
      },
      "source": [
        "def compute_gradient (model, ensemble, data):\n",
        "    \n",
        "  data_X, data_Y = data\n",
        "  \n",
        "  variances = observation_noise_variance * torch.ones(len(data_X))\n",
        "  \n",
        "  gradient = {}\n",
        "#   for name, param in model.named_parameters():\n",
        "#     if param.requires_grad:\n",
        "#       gradient[name] = torch.zeros(param.shape)\n",
        "        \n",
        "  for j in range (model_number_M):\n",
        "    for l in range (model_number_M):\n",
        "      \n",
        "      ensemble[l].eval()\n",
        "      means = model(data_X.view(-1, 1))\n",
        "      \n",
        "      likelihood_mvn = ds.multivariate_normal.MultivariateNormal(means, torch.diag(variances))\n",
        "      log_likelihood = likelihood_mvn.log_prob(data_Y).sum()\n",
        "      \n",
        "      parameter_values = torch.tensor([])\n",
        "      \n",
        "      for name, param in model.named_parameters():\n",
        "        if param.requires_grad:\n",
        "          parameter_values = torch.cat((parameter_values, param.flatten()))\n",
        "      \n",
        "      # Possible error here from backpropping through PDF\n",
        "      prior_mvn = ds.multivariate_normal.MultivariateNormal(torch.zeros(parameter_values.shape), torch.eye(parameter_values.shape[0]))\n",
        "      log_prior = prior_mvn.log_prob(parameter_values).sum()\n",
        "      \n",
        "      kernel_value = compute_kernel (ensemble[l], ensemble[j]) \n",
        "      kernel_value.backward()\n",
        "      \n",
        "      for name, param in ensemble[l].named_parameters():\n",
        "        if param.requires_grad:\n",
        "          gradient[name] = param.grad\n",
        "          # Think about whether we want to zero out gradient \n",
        "          param.grad.zero_()\n",
        "          \n",
        "      prob_term = log_likelihood + log_prior\n",
        "      \n",
        "      prob_term.backward()\n",
        "      \n",
        "      for name, param in ensemble[l].named_parameters():\n",
        "        if param.requires_grad:\n",
        "          gradient[name] += (kernel_value * param.grad)\n",
        "          # Think about whether we want to zero out gradient\n",
        "          param.grad.zero_()\n",
        "      \n",
        "\n",
        "          \n",
        "  for key, value in gradient.items():\n",
        "    gradient[key] = (1. / (1. * model_number_M)) * value\n",
        "\n",
        "  return gradient "
      ],
      "execution_count": 0,
      "outputs": []
    },
    {
      "cell_type": "code",
      "metadata": {
        "id": "s9aSKad9ishF",
        "colab_type": "code",
        "colab": {}
      },
      "source": [
        "def bayesian_task_update (models, data, num_task_steps, visualize=False, viz_steps = [0, 19]):\n",
        "   \n",
        "    ## Initialization\n",
        "    new_models = [type(model)() for model in models]\n",
        "    for i in range(model_number_M):\n",
        "        new_models[i].load_state_dict (models[i].state_dict())\n",
        "        \n",
        "    # Turn on the train mode\n",
        "    for i in range (model_number_M):\n",
        "        new_models[i].train()\n",
        "        \n",
        "    visualization_predictions = []\n",
        "    \n",
        "    for step in range (num_task_steps):\n",
        "        # New_model == particle\n",
        "        for i in range(model_number_M):\n",
        "          \n",
        "          # Get gradient\n",
        "          gradient = compute_gradient (new_models[i], new_models, data)\n",
        "          \n",
        "          # Perform gradient update\n",
        "          for name, param in models[l].named_parameters():\n",
        "            if param.requires_grad:\n",
        "              param.data += bayes_task_learning_rate * gradient[name]\n",
        "            \n",
        "    return new_models "
      ],
      "execution_count": 0,
      "outputs": []
    },
    {
      "cell_type": "code",
      "metadata": {
        "id": "2cGxMD7weppd",
        "colab_type": "code",
        "colab": {}
      },
      "source": [
        "def bayesian_online_meta_learning (models, data):\n",
        "    # Initialize the meta-model params\n",
        "    # model = model\n",
        "    \n",
        "    # Turn on the train mode\n",
        "    for i in range (model_number_M):\n",
        "        models[i].train()\n",
        "    \n",
        "    # Init task buffer \n",
        "    task_buffer = []\n",
        "    sequence_data = {}\n",
        "    test_losses = []\n",
        "    \n",
        "    # The world decides on the sequence of task\n",
        "    task_indices = np.arange(1, len(task_sequence) + 1)\n",
        "    np.random.shuffle(task_indices)\n",
        "    \n",
        "    # In each round, we present samples from one particular task\n",
        "    for round_t in range (len(data)):\n",
        "\n",
        "        # Store observed task in task buffer\n",
        "        task_buffer.append (task_indices[round_t])\n",
        "        \n",
        "        # Shuffle sequence data (to prevent unnatural ordering)\n",
        "        task_data = data[task_indices[round_t]]\n",
        "        data_indices = np.arange(points_per_task)\n",
        "        np.random.shuffle(data_indices)\n",
        "        \n",
        "        reordered_X = []\n",
        "        reordered_Y = []\n",
        "        \n",
        "        for i in data_indices:\n",
        "            reordered_X.append(task_data['X'][i])\n",
        "            reordered_Y.append(task_data['Y'][i])\n",
        "            \n",
        "        # Create task test-train split\n",
        "        train_X = torch.tensor(reordered_X[:int(data_split * points_per_task)])\n",
        "        train_Y = torch.tensor(reordered_Y[:int(data_split * points_per_task)])\n",
        "        test_X = torch.tensor(reordered_X[int(data_split * points_per_task):])\n",
        "        test_Y = torch.tensor(reordered_Y[int(data_split * points_per_task):])\n",
        "\n",
        "        # Maintain task online data buffer \n",
        "        task_X = torch.tensor([])\n",
        "        task_Y = torch.tensor([])\n",
        "        \n",
        "        data_counter = 0\n",
        "        \n",
        "        if round_t > 0:\n",
        "            veteran_model = type(model)()\n",
        "            veteran_model.load_state_dict (model.state_dict())\n",
        "\n",
        "            visualize_results (veteran_model, (train_X, train_Y), task_sequence[task_buffer[-1]])\n",
        "                \n",
        "        while len(task_X) < (data_split * points_per_task):\n",
        "\n",
        "            # Append batch_size data points to online data buffer \n",
        "            task_X = torch.cat((task_X, train_X[data_counter : data_counter + task_batch_size]))\n",
        "            task_Y = torch.cat((task_Y, train_Y[data_counter : data_counter + task_batch_size]))\n",
        "            \n",
        "            data_counter += task_batch_size\n",
        "            \n",
        "            # Store observed data \n",
        "            sequence_data[task_indices[round_t]] = (task_X, task_Y)\n",
        "            \n",
        "            # Perform meta-model update\n",
        "            models = bayesian_meta_update (models, task_buffer, sequence_data)\n",
        "            \n",
        "            # Perform task update\n",
        "            tilde_models = bayesian_task_update (models, (task_X, task_Y), chaser_steps)\n",
        "        \n",
        "        # ****** [TO-DO]  ******\n",
        "        # Final performance on the test set\n",
        "        test_loss = ensemble_loss_eval (tilde_models, (test_X, test_Y), round_t)\n",
        "        \n",
        "        test_losses.append(test_loss)\n",
        "    \n",
        "    plt.plot(np.arange(1, len(data) + 1), np.array(test_losses))\n",
        "    plt.title(\"Test Loss on Bayesian Online Meta-Learning Task\")\n",
        "    plt.show()"
      ],
      "execution_count": 0,
      "outputs": []
    },
    {
      "cell_type": "code",
      "metadata": {
        "id": "fk-_886lnpwM",
        "colab_type": "code",
        "outputId": "2a3120c3-493f-4fae-dc00-1f2c0f03fe93",
        "colab": {
          "base_uri": "https://localhost:8080/",
          "height": 664
        }
      },
      "source": [
        "bayesian_online_meta_learning (ensemble_meta_models, sequence_data)"
      ],
      "execution_count": 0,
      "outputs": [
        {
          "output_type": "error",
          "ename": "AttributeError",
          "evalue": "ignored",
          "traceback": [
            "\u001b[0;31m\u001b[0m",
            "\u001b[0;31mAttributeError\u001b[0mTraceback (most recent call last)",
            "\u001b[0;32m<ipython-input-64-a234377ca02d>\u001b[0m in \u001b[0;36m<module>\u001b[0;34m()\u001b[0m\n\u001b[0;32m----> 1\u001b[0;31m \u001b[0mbayesian_online_meta_learning\u001b[0m \u001b[0;34m(\u001b[0m\u001b[0mensemble_meta_models\u001b[0m\u001b[0;34m,\u001b[0m \u001b[0msequence_data\u001b[0m\u001b[0;34m)\u001b[0m\u001b[0;34m\u001b[0m\u001b[0m\n\u001b[0m",
            "\u001b[0;32m<ipython-input-61-e7c64970c59e>\u001b[0m in \u001b[0;36mbayesian_online_meta_learning\u001b[0;34m(models, data)\u001b[0m\n\u001b[1;32m     64\u001b[0m \u001b[0;34m\u001b[0m\u001b[0m\n\u001b[1;32m     65\u001b[0m             \u001b[0;31m# Perform meta-model update\u001b[0m\u001b[0;34m\u001b[0m\u001b[0;34m\u001b[0m\u001b[0m\n\u001b[0;32m---> 66\u001b[0;31m             \u001b[0mmodels\u001b[0m \u001b[0;34m=\u001b[0m \u001b[0mbayesian_meta_update\u001b[0m \u001b[0;34m(\u001b[0m\u001b[0mmodels\u001b[0m\u001b[0;34m,\u001b[0m \u001b[0mtask_buffer\u001b[0m\u001b[0;34m,\u001b[0m \u001b[0msequence_data\u001b[0m\u001b[0;34m)\u001b[0m\u001b[0;34m\u001b[0m\u001b[0m\n\u001b[0m\u001b[1;32m     67\u001b[0m \u001b[0;34m\u001b[0m\u001b[0m\n\u001b[1;32m     68\u001b[0m             \u001b[0;31m# Perform task update\u001b[0m\u001b[0;34m\u001b[0m\u001b[0;34m\u001b[0m\u001b[0m\n",
            "\u001b[0;32m<ipython-input-28-e71d35b42f00>\u001b[0m in \u001b[0;36mbayesian_meta_update\u001b[0;34m(models, task_buffer, sequence_data)\u001b[0m\n\u001b[1;32m     32\u001b[0m \u001b[0;34m\u001b[0m\u001b[0m\n\u001b[1;32m     33\u001b[0m       \u001b[0;31m# At some point in backpropagating, we are going to use the partial d(theta_n) / d(theta_0_prime)\u001b[0m\u001b[0;34m\u001b[0m\u001b[0;34m\u001b[0m\u001b[0m\n\u001b[0;32m---> 34\u001b[0;31m       \u001b[0mtheta_n\u001b[0m \u001b[0;34m=\u001b[0m \u001b[0mbayesian_task_update\u001b[0m \u001b[0;34m(\u001b[0m\u001b[0mmodels\u001b[0m\u001b[0;34m,\u001b[0m \u001b[0;34m(\u001b[0m\u001b[0mtrain_X\u001b[0m\u001b[0;34m,\u001b[0m \u001b[0mtrain_Y\u001b[0m\u001b[0;34m)\u001b[0m\u001b[0;34m,\u001b[0m \u001b[0mchaser_steps\u001b[0m\u001b[0;34m)\u001b[0m\u001b[0;34m\u001b[0m\u001b[0m\n\u001b[0m\u001b[1;32m     35\u001b[0m \u001b[0;34m\u001b[0m\u001b[0m\n\u001b[1;32m     36\u001b[0m       \u001b[0mtheta_n_prime\u001b[0m \u001b[0;34m=\u001b[0m \u001b[0;34m[\u001b[0m\u001b[0mtype\u001b[0m\u001b[0;34m(\u001b[0m\u001b[0mtheta_n_model\u001b[0m\u001b[0;34m)\u001b[0m \u001b[0;32mfor\u001b[0m \u001b[0mtheta_n_model\u001b[0m \u001b[0;32min\u001b[0m \u001b[0mtheta_n\u001b[0m\u001b[0;34m]\u001b[0m\u001b[0;34m\u001b[0m\u001b[0m\n",
            "\u001b[0;32m<ipython-input-60-e3493e2af8a7>\u001b[0m in \u001b[0;36mbayesian_task_update\u001b[0;34m(models, data, num_task_steps, visualize, viz_steps)\u001b[0m\n\u001b[1;32m     17\u001b[0m \u001b[0;34m\u001b[0m\u001b[0m\n\u001b[1;32m     18\u001b[0m           \u001b[0;31m# Get gradient\u001b[0m\u001b[0;34m\u001b[0m\u001b[0;34m\u001b[0m\u001b[0m\n\u001b[0;32m---> 19\u001b[0;31m           \u001b[0mgradient\u001b[0m \u001b[0;34m=\u001b[0m \u001b[0mcompute_gradient\u001b[0m \u001b[0;34m(\u001b[0m\u001b[0mnew_models\u001b[0m\u001b[0;34m[\u001b[0m\u001b[0mi\u001b[0m\u001b[0;34m]\u001b[0m\u001b[0;34m,\u001b[0m \u001b[0mnew_models\u001b[0m\u001b[0;34m,\u001b[0m \u001b[0mdata\u001b[0m\u001b[0;34m)\u001b[0m\u001b[0;34m\u001b[0m\u001b[0m\n\u001b[0m\u001b[1;32m     20\u001b[0m \u001b[0;34m\u001b[0m\u001b[0m\n\u001b[1;32m     21\u001b[0m           \u001b[0;31m# Perform gradient update\u001b[0m\u001b[0;34m\u001b[0m\u001b[0;34m\u001b[0m\u001b[0m\n",
            "\u001b[0;32m<ipython-input-63-066f7da0b9b2>\u001b[0m in \u001b[0;36mcompute_gradient\u001b[0;34m(model, ensemble, data)\u001b[0m\n\u001b[1;32m     36\u001b[0m           \u001b[0mgradient\u001b[0m\u001b[0;34m[\u001b[0m\u001b[0mname\u001b[0m\u001b[0;34m]\u001b[0m \u001b[0;34m=\u001b[0m \u001b[0mparam\u001b[0m\u001b[0;34m.\u001b[0m\u001b[0mgrad\u001b[0m\u001b[0;34m\u001b[0m\u001b[0m\n\u001b[1;32m     37\u001b[0m           \u001b[0;31m# Think about whether we want to zero out gradient\u001b[0m\u001b[0;34m\u001b[0m\u001b[0;34m\u001b[0m\u001b[0m\n\u001b[0;32m---> 38\u001b[0;31m           \u001b[0mparam\u001b[0m\u001b[0;34m.\u001b[0m\u001b[0mgrad\u001b[0m\u001b[0;34m.\u001b[0m\u001b[0mzero_\u001b[0m\u001b[0;34m(\u001b[0m\u001b[0;34m)\u001b[0m\u001b[0;34m\u001b[0m\u001b[0m\n\u001b[0m\u001b[1;32m     39\u001b[0m \u001b[0;34m\u001b[0m\u001b[0m\n\u001b[1;32m     40\u001b[0m       \u001b[0mprob_term\u001b[0m \u001b[0;34m=\u001b[0m \u001b[0mlog_likelihood\u001b[0m \u001b[0;34m+\u001b[0m \u001b[0mlog_prior\u001b[0m\u001b[0;34m\u001b[0m\u001b[0m\n",
            "\u001b[0;31mAttributeError\u001b[0m: 'NoneType' object has no attribute 'zero_'"
          ]
        }
      ]
    },
    {
      "cell_type": "markdown",
      "metadata": {
        "id": "a4gd3avxEeIw",
        "colab_type": "text"
      },
      "source": [
        "## TO-DO LIST:\n",
        "\n",
        "\n",
        "\n",
        "*   Relax our assumption about the frequency of tasks (i.e., we are currently assuming that the tasks are unique.)\n",
        "*   Check that we are updating the correct set of parameters\n"
      ]
    },
    {
      "cell_type": "code",
      "metadata": {
        "id": "mfX_8IVp-r61",
        "colab_type": "code",
        "colab": {}
      },
      "source": [
        ""
      ],
      "execution_count": 0,
      "outputs": []
    }
  ]
}